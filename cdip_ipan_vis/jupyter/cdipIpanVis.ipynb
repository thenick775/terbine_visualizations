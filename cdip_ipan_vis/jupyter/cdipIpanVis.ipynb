{
 "cells": [
  {
   "cell_type": "code",
   "execution_count": 1,
   "metadata": {},
   "outputs": [],
   "source": [
    "import pandas as pd"
   ]
  },
  {
   "cell_type": "code",
   "execution_count": 2,
   "metadata": {},
   "outputs": [],
   "source": [
    "#pd.set_option('display.max_rows', None)\n",
    "#pd.set_option('display.max_columns', None)\n",
    "#pd.set_option('display.width', None)\n",
    "#pd.set_option('display.max_colwidth', -1)"
   ]
  },
  {
   "cell_type": "code",
   "execution_count": 3,
   "metadata": {},
   "outputs": [],
   "source": [
    "#Below cells order, and then merge data from a cdip station"
   ]
  },
  {
   "cell_type": "code",
   "execution_count": 4,
   "metadata": {},
   "outputs": [],
   "source": [
    "dfwt=pd.read_csv('/ipanwatertmp.csv',sep='\\s+')\n",
    "dfwavedir=pd.read_csv('/ipanwavedir.csv',sep='\\s+')\n",
    "dfwaveheight=pd.read_csv('/ipanwaveheight.csv',sep='\\s+')\n",
    "dfwaveperiod=pd.read_csv('/ipanwaveperiod.csv',sep='\\s+')"
   ]
  },
  {
   "cell_type": "code",
   "execution_count": 5,
   "metadata": {},
   "outputs": [],
   "source": [
    "dfwt[\"Date\"]=dfwt[\"Month\"]+\" \"+dfwt[\"Day\"]+\" \"+dfwt[\"Hour\"]"
   ]
  },
  {
   "cell_type": "code",
   "execution_count": 6,
   "metadata": {},
   "outputs": [],
   "source": [
    "dfwt=dfwt[[\"Date\",\"SST\"]].copy()"
   ]
  },
  {
   "cell_type": "code",
   "execution_count": 7,
   "metadata": {},
   "outputs": [],
   "source": [
    "dfwt['Dateasdt'] =pd.to_datetime(dfwt.Date, format='%b %d, %H:%M')\n",
    "dfwt.sort_values(by=['Dateasdt'], inplace=True)\n",
    "dfwt=dfwt[[\"Date\",\"SST\"]].reset_index(drop=True).drop_duplicates().copy()"
   ]
  },
  {
   "cell_type": "code",
   "execution_count": 8,
   "metadata": {},
   "outputs": [
    {
     "data": {
      "text/html": [
       "<div>\n",
       "<style scoped>\n",
       "    .dataframe tbody tr th:only-of-type {\n",
       "        vertical-align: middle;\n",
       "    }\n",
       "\n",
       "    .dataframe tbody tr th {\n",
       "        vertical-align: top;\n",
       "    }\n",
       "\n",
       "    .dataframe thead th {\n",
       "        text-align: right;\n",
       "    }\n",
       "</style>\n",
       "<table border=\"1\" class=\"dataframe\">\n",
       "  <thead>\n",
       "    <tr style=\"text-align: right;\">\n",
       "      <th></th>\n",
       "      <th>Date</th>\n",
       "      <th>SST</th>\n",
       "    </tr>\n",
       "  </thead>\n",
       "  <tbody>\n",
       "    <tr>\n",
       "      <th>0</th>\n",
       "      <td>Jul 31, 23:30</td>\n",
       "      <td>85.5</td>\n",
       "    </tr>\n",
       "    <tr>\n",
       "      <th>1</th>\n",
       "      <td>Aug 01, 00:00</td>\n",
       "      <td>85.5</td>\n",
       "    </tr>\n",
       "    <tr>\n",
       "      <th>2</th>\n",
       "      <td>Aug 01, 00:30</td>\n",
       "      <td>85.6</td>\n",
       "    </tr>\n",
       "    <tr>\n",
       "      <th>3</th>\n",
       "      <td>Aug 01, 01:00</td>\n",
       "      <td>85.6</td>\n",
       "    </tr>\n",
       "    <tr>\n",
       "      <th>4</th>\n",
       "      <td>Aug 01, 01:30</td>\n",
       "      <td>85.6</td>\n",
       "    </tr>\n",
       "    <tr>\n",
       "      <th>...</th>\n",
       "      <td>...</td>\n",
       "      <td>...</td>\n",
       "    </tr>\n",
       "    <tr>\n",
       "      <th>2050</th>\n",
       "      <td>Sep 11, 21:00</td>\n",
       "      <td>86.9</td>\n",
       "    </tr>\n",
       "    <tr>\n",
       "      <th>2051</th>\n",
       "      <td>Sep 11, 21:30</td>\n",
       "      <td>86.9</td>\n",
       "    </tr>\n",
       "    <tr>\n",
       "      <th>2052</th>\n",
       "      <td>Sep 11, 22:00</td>\n",
       "      <td>86.9</td>\n",
       "    </tr>\n",
       "    <tr>\n",
       "      <th>2053</th>\n",
       "      <td>Sep 11, 22:30</td>\n",
       "      <td>86.9</td>\n",
       "    </tr>\n",
       "    <tr>\n",
       "      <th>2054</th>\n",
       "      <td>Sep 11, 23:00</td>\n",
       "      <td>86.9</td>\n",
       "    </tr>\n",
       "  </tbody>\n",
       "</table>\n",
       "<p>2011 rows × 2 columns</p>\n",
       "</div>"
      ],
      "text/plain": [
       "               Date   SST\n",
       "0     Jul 31, 23:30  85.5\n",
       "1     Aug 01, 00:00  85.5\n",
       "2     Aug 01, 00:30  85.6\n",
       "3     Aug 01, 01:00  85.6\n",
       "4     Aug 01, 01:30  85.6\n",
       "...             ...   ...\n",
       "2050  Sep 11, 21:00  86.9\n",
       "2051  Sep 11, 21:30  86.9\n",
       "2052  Sep 11, 22:00  86.9\n",
       "2053  Sep 11, 22:30  86.9\n",
       "2054  Sep 11, 23:00  86.9\n",
       "\n",
       "[2011 rows x 2 columns]"
      ]
     },
     "execution_count": 8,
     "metadata": {},
     "output_type": "execute_result"
    }
   ],
   "source": [
    "dfwt"
   ]
  },
  {
   "cell_type": "code",
   "execution_count": 9,
   "metadata": {},
   "outputs": [
    {
     "name": "stdout",
     "output_type": "stream",
     "text": [
      "Duplicate Rows except first occurrence based on all columns are :\n",
      "Empty DataFrame\n",
      "Columns: [Date, SST]\n",
      "Index: []\n"
     ]
    }
   ],
   "source": [
    "duplicateRowsDF = dfwt[dfwt.duplicated()]\n",
    "print(\"Duplicate Rows except first occurrence based on all columns are :\")\n",
    "print(duplicateRowsDF)"
   ]
  },
  {
   "cell_type": "code",
   "execution_count": null,
   "metadata": {},
   "outputs": [],
   "source": []
  },
  {
   "cell_type": "code",
   "execution_count": 10,
   "metadata": {},
   "outputs": [],
   "source": [
    "dfwavedir[\"Date\"]=dfwavedir[\"Month\"]+\" \"+dfwavedir[\"Day\"]+\" \"+dfwavedir[\"Hour\"]"
   ]
  },
  {
   "cell_type": "code",
   "execution_count": 11,
   "metadata": {},
   "outputs": [],
   "source": [
    "dfwavedir=dfwavedir[[\"Date\",\"DP\"]].copy()"
   ]
  },
  {
   "cell_type": "code",
   "execution_count": 12,
   "metadata": {},
   "outputs": [],
   "source": [
    "dfwavedir['Dateasdt'] =pd.to_datetime(dfwavedir.Date, format='%b %d, %H:%M')\n",
    "dfwavedir.sort_values(by=['Dateasdt'], inplace=True)\n",
    "dfwavedir=dfwavedir[[\"Date\",\"DP\"]].reset_index(drop=True).copy()"
   ]
  },
  {
   "cell_type": "code",
   "execution_count": 13,
   "metadata": {},
   "outputs": [
    {
     "data": {
      "text/html": [
       "<div>\n",
       "<style scoped>\n",
       "    .dataframe tbody tr th:only-of-type {\n",
       "        vertical-align: middle;\n",
       "    }\n",
       "\n",
       "    .dataframe tbody tr th {\n",
       "        vertical-align: top;\n",
       "    }\n",
       "\n",
       "    .dataframe thead th {\n",
       "        text-align: right;\n",
       "    }\n",
       "</style>\n",
       "<table border=\"1\" class=\"dataframe\">\n",
       "  <thead>\n",
       "    <tr style=\"text-align: right;\">\n",
       "      <th></th>\n",
       "      <th>Date</th>\n",
       "      <th>DP</th>\n",
       "    </tr>\n",
       "  </thead>\n",
       "  <tbody>\n",
       "    <tr>\n",
       "      <th>0</th>\n",
       "      <td>Jul 31, 23:30</td>\n",
       "      <td>87</td>\n",
       "    </tr>\n",
       "    <tr>\n",
       "      <th>1</th>\n",
       "      <td>Aug 01, 00:00</td>\n",
       "      <td>94</td>\n",
       "    </tr>\n",
       "    <tr>\n",
       "      <th>2</th>\n",
       "      <td>Aug 01, 00:30</td>\n",
       "      <td>98</td>\n",
       "    </tr>\n",
       "    <tr>\n",
       "      <th>3</th>\n",
       "      <td>Aug 01, 01:00</td>\n",
       "      <td>90</td>\n",
       "    </tr>\n",
       "    <tr>\n",
       "      <th>4</th>\n",
       "      <td>Aug 01, 01:30</td>\n",
       "      <td>83</td>\n",
       "    </tr>\n",
       "    <tr>\n",
       "      <th>...</th>\n",
       "      <td>...</td>\n",
       "      <td>...</td>\n",
       "    </tr>\n",
       "    <tr>\n",
       "      <th>2004</th>\n",
       "      <td>Sep 11, 21:00</td>\n",
       "      <td>96</td>\n",
       "    </tr>\n",
       "    <tr>\n",
       "      <th>2005</th>\n",
       "      <td>Sep 11, 21:30</td>\n",
       "      <td>113</td>\n",
       "    </tr>\n",
       "    <tr>\n",
       "      <th>2006</th>\n",
       "      <td>Sep 11, 22:00</td>\n",
       "      <td>93</td>\n",
       "    </tr>\n",
       "    <tr>\n",
       "      <th>2007</th>\n",
       "      <td>Sep 11, 22:30</td>\n",
       "      <td>98</td>\n",
       "    </tr>\n",
       "    <tr>\n",
       "      <th>2008</th>\n",
       "      <td>Sep 11, 23:00</td>\n",
       "      <td>84</td>\n",
       "    </tr>\n",
       "  </tbody>\n",
       "</table>\n",
       "<p>2009 rows × 2 columns</p>\n",
       "</div>"
      ],
      "text/plain": [
       "               Date   DP\n",
       "0     Jul 31, 23:30   87\n",
       "1     Aug 01, 00:00   94\n",
       "2     Aug 01, 00:30   98\n",
       "3     Aug 01, 01:00   90\n",
       "4     Aug 01, 01:30   83\n",
       "...             ...  ...\n",
       "2004  Sep 11, 21:00   96\n",
       "2005  Sep 11, 21:30  113\n",
       "2006  Sep 11, 22:00   93\n",
       "2007  Sep 11, 22:30   98\n",
       "2008  Sep 11, 23:00   84\n",
       "\n",
       "[2009 rows x 2 columns]"
      ]
     },
     "execution_count": 13,
     "metadata": {},
     "output_type": "execute_result"
    }
   ],
   "source": [
    "dfwavedir"
   ]
  },
  {
   "cell_type": "code",
   "execution_count": 14,
   "metadata": {},
   "outputs": [
    {
     "name": "stdout",
     "output_type": "stream",
     "text": [
      "Duplicate Rows except first occurrence based on all columns are :\n",
      "Empty DataFrame\n",
      "Columns: [Date, DP]\n",
      "Index: []\n"
     ]
    }
   ],
   "source": [
    "duplicateRowsDF = dfwavedir[dfwavedir.duplicated()]\n",
    "print(\"Duplicate Rows except first occurrence based on all columns are :\")\n",
    "print(duplicateRowsDF)"
   ]
  },
  {
   "cell_type": "code",
   "execution_count": null,
   "metadata": {},
   "outputs": [],
   "source": []
  },
  {
   "cell_type": "code",
   "execution_count": 15,
   "metadata": {},
   "outputs": [],
   "source": [
    "dfwaveheight[\"Date\"]=dfwaveheight[\"Month\"]+\" \"+dfwaveheight[\"Day\"]+\" \"+dfwaveheight[\"Hour\"]"
   ]
  },
  {
   "cell_type": "code",
   "execution_count": 16,
   "metadata": {},
   "outputs": [],
   "source": [
    "dfwaveheight=dfwaveheight[[\"Date\",\"HS\"]].copy()"
   ]
  },
  {
   "cell_type": "code",
   "execution_count": 17,
   "metadata": {},
   "outputs": [],
   "source": [
    "dfwaveheight['Dateasdt'] =pd.to_datetime(dfwaveheight.Date, format='%b %d, %H:%M')\n",
    "dfwaveheight.sort_values(by=['Dateasdt'], inplace=True)\n",
    "dfwaveheight=dfwaveheight[[\"Date\",\"HS\"]].reset_index(drop=True).copy()"
   ]
  },
  {
   "cell_type": "code",
   "execution_count": 18,
   "metadata": {},
   "outputs": [
    {
     "data": {
      "text/html": [
       "<div>\n",
       "<style scoped>\n",
       "    .dataframe tbody tr th:only-of-type {\n",
       "        vertical-align: middle;\n",
       "    }\n",
       "\n",
       "    .dataframe tbody tr th {\n",
       "        vertical-align: top;\n",
       "    }\n",
       "\n",
       "    .dataframe thead th {\n",
       "        text-align: right;\n",
       "    }\n",
       "</style>\n",
       "<table border=\"1\" class=\"dataframe\">\n",
       "  <thead>\n",
       "    <tr style=\"text-align: right;\">\n",
       "      <th></th>\n",
       "      <th>Date</th>\n",
       "      <th>HS</th>\n",
       "    </tr>\n",
       "  </thead>\n",
       "  <tbody>\n",
       "    <tr>\n",
       "      <th>0</th>\n",
       "      <td>Jul 31, 23:30</td>\n",
       "      <td>4.17</td>\n",
       "    </tr>\n",
       "    <tr>\n",
       "      <th>1</th>\n",
       "      <td>Aug 01, 00:00</td>\n",
       "      <td>4.07</td>\n",
       "    </tr>\n",
       "    <tr>\n",
       "      <th>2</th>\n",
       "      <td>Aug 01, 00:30</td>\n",
       "      <td>4.07</td>\n",
       "    </tr>\n",
       "    <tr>\n",
       "      <th>3</th>\n",
       "      <td>Aug 01, 01:00</td>\n",
       "      <td>4.33</td>\n",
       "    </tr>\n",
       "    <tr>\n",
       "      <th>4</th>\n",
       "      <td>Aug 01, 01:30</td>\n",
       "      <td>4.20</td>\n",
       "    </tr>\n",
       "    <tr>\n",
       "      <th>...</th>\n",
       "      <td>...</td>\n",
       "      <td>...</td>\n",
       "    </tr>\n",
       "    <tr>\n",
       "      <th>2004</th>\n",
       "      <td>Sep 11, 21:00</td>\n",
       "      <td>3.02</td>\n",
       "    </tr>\n",
       "    <tr>\n",
       "      <th>2005</th>\n",
       "      <td>Sep 11, 21:30</td>\n",
       "      <td>2.92</td>\n",
       "    </tr>\n",
       "    <tr>\n",
       "      <th>2006</th>\n",
       "      <td>Sep 11, 22:00</td>\n",
       "      <td>2.79</td>\n",
       "    </tr>\n",
       "    <tr>\n",
       "      <th>2007</th>\n",
       "      <td>Sep 11, 22:30</td>\n",
       "      <td>2.69</td>\n",
       "    </tr>\n",
       "    <tr>\n",
       "      <th>2008</th>\n",
       "      <td>Sep 11, 23:00</td>\n",
       "      <td>2.95</td>\n",
       "    </tr>\n",
       "  </tbody>\n",
       "</table>\n",
       "<p>2009 rows × 2 columns</p>\n",
       "</div>"
      ],
      "text/plain": [
       "               Date    HS\n",
       "0     Jul 31, 23:30  4.17\n",
       "1     Aug 01, 00:00  4.07\n",
       "2     Aug 01, 00:30  4.07\n",
       "3     Aug 01, 01:00  4.33\n",
       "4     Aug 01, 01:30  4.20\n",
       "...             ...   ...\n",
       "2004  Sep 11, 21:00  3.02\n",
       "2005  Sep 11, 21:30  2.92\n",
       "2006  Sep 11, 22:00  2.79\n",
       "2007  Sep 11, 22:30  2.69\n",
       "2008  Sep 11, 23:00  2.95\n",
       "\n",
       "[2009 rows x 2 columns]"
      ]
     },
     "execution_count": 18,
     "metadata": {},
     "output_type": "execute_result"
    }
   ],
   "source": [
    "dfwaveheight"
   ]
  },
  {
   "cell_type": "code",
   "execution_count": 19,
   "metadata": {},
   "outputs": [
    {
     "name": "stdout",
     "output_type": "stream",
     "text": [
      "Duplicate Rows except first occurrence based on all columns are :\n",
      "Empty DataFrame\n",
      "Columns: [Date, HS]\n",
      "Index: []\n"
     ]
    }
   ],
   "source": [
    "duplicateRowsDF = dfwaveheight[dfwaveheight.duplicated()]\n",
    "print(\"Duplicate Rows except first occurrence based on all columns are :\")\n",
    "print(duplicateRowsDF)"
   ]
  },
  {
   "cell_type": "code",
   "execution_count": null,
   "metadata": {},
   "outputs": [],
   "source": []
  },
  {
   "cell_type": "code",
   "execution_count": 20,
   "metadata": {},
   "outputs": [],
   "source": [
    "dfwaveperiod[\"Date\"]=dfwaveperiod[\"Month\"]+\" \"+dfwaveperiod[\"Day\"]+\" \"+dfwaveperiod[\"Hour\"]"
   ]
  },
  {
   "cell_type": "code",
   "execution_count": 21,
   "metadata": {},
   "outputs": [],
   "source": [
    "dfwaveperiod=dfwaveperiod[[\"Date\",\"TP\",\"TA\"]].copy()"
   ]
  },
  {
   "cell_type": "code",
   "execution_count": 22,
   "metadata": {},
   "outputs": [],
   "source": [
    "dfwaveperiod['Dateasdt'] =pd.to_datetime(dfwaveperiod.Date, format='%b %d, %H:%M')\n",
    "dfwaveperiod.sort_values(by=['Dateasdt'], inplace=True)\n",
    "dfwaveperiod=dfwaveperiod[[\"Date\",\"TP\",\"TA\"]].reset_index(drop=True).copy()"
   ]
  },
  {
   "cell_type": "code",
   "execution_count": 23,
   "metadata": {},
   "outputs": [
    {
     "data": {
      "text/html": [
       "<div>\n",
       "<style scoped>\n",
       "    .dataframe tbody tr th:only-of-type {\n",
       "        vertical-align: middle;\n",
       "    }\n",
       "\n",
       "    .dataframe tbody tr th {\n",
       "        vertical-align: top;\n",
       "    }\n",
       "\n",
       "    .dataframe thead th {\n",
       "        text-align: right;\n",
       "    }\n",
       "</style>\n",
       "<table border=\"1\" class=\"dataframe\">\n",
       "  <thead>\n",
       "    <tr style=\"text-align: right;\">\n",
       "      <th></th>\n",
       "      <th>Date</th>\n",
       "      <th>TP</th>\n",
       "      <th>TA</th>\n",
       "    </tr>\n",
       "  </thead>\n",
       "  <tbody>\n",
       "    <tr>\n",
       "      <th>0</th>\n",
       "      <td>Jul 31, 23:30</td>\n",
       "      <td>9.09</td>\n",
       "      <td>5.43</td>\n",
       "    </tr>\n",
       "    <tr>\n",
       "      <th>1</th>\n",
       "      <td>Aug 01, 00:00</td>\n",
       "      <td>7.14</td>\n",
       "      <td>5.52</td>\n",
       "    </tr>\n",
       "    <tr>\n",
       "      <th>2</th>\n",
       "      <td>Aug 01, 00:30</td>\n",
       "      <td>6.67</td>\n",
       "      <td>5.59</td>\n",
       "    </tr>\n",
       "    <tr>\n",
       "      <th>3</th>\n",
       "      <td>Aug 01, 01:00</td>\n",
       "      <td>6.67</td>\n",
       "      <td>5.39</td>\n",
       "    </tr>\n",
       "    <tr>\n",
       "      <th>4</th>\n",
       "      <td>Aug 01, 01:30</td>\n",
       "      <td>9.09</td>\n",
       "      <td>5.41</td>\n",
       "    </tr>\n",
       "    <tr>\n",
       "      <th>...</th>\n",
       "      <td>...</td>\n",
       "      <td>...</td>\n",
       "      <td>...</td>\n",
       "    </tr>\n",
       "    <tr>\n",
       "      <th>2004</th>\n",
       "      <td>Sep 11, 21:00</td>\n",
       "      <td>10.53</td>\n",
       "      <td>6.80</td>\n",
       "    </tr>\n",
       "    <tr>\n",
       "      <th>2005</th>\n",
       "      <td>Sep 11, 21:30</td>\n",
       "      <td>9.88</td>\n",
       "      <td>6.79</td>\n",
       "    </tr>\n",
       "    <tr>\n",
       "      <th>2006</th>\n",
       "      <td>Sep 11, 22:00</td>\n",
       "      <td>10.53</td>\n",
       "      <td>6.37</td>\n",
       "    </tr>\n",
       "    <tr>\n",
       "      <th>2007</th>\n",
       "      <td>Sep 11, 22:30</td>\n",
       "      <td>11.76</td>\n",
       "      <td>6.34</td>\n",
       "    </tr>\n",
       "    <tr>\n",
       "      <th>2008</th>\n",
       "      <td>Sep 11, 23:00</td>\n",
       "      <td>10.53</td>\n",
       "      <td>6.39</td>\n",
       "    </tr>\n",
       "  </tbody>\n",
       "</table>\n",
       "<p>2009 rows × 3 columns</p>\n",
       "</div>"
      ],
      "text/plain": [
       "               Date     TP    TA\n",
       "0     Jul 31, 23:30   9.09  5.43\n",
       "1     Aug 01, 00:00   7.14  5.52\n",
       "2     Aug 01, 00:30   6.67  5.59\n",
       "3     Aug 01, 01:00   6.67  5.39\n",
       "4     Aug 01, 01:30   9.09  5.41\n",
       "...             ...    ...   ...\n",
       "2004  Sep 11, 21:00  10.53  6.80\n",
       "2005  Sep 11, 21:30   9.88  6.79\n",
       "2006  Sep 11, 22:00  10.53  6.37\n",
       "2007  Sep 11, 22:30  11.76  6.34\n",
       "2008  Sep 11, 23:00  10.53  6.39\n",
       "\n",
       "[2009 rows x 3 columns]"
      ]
     },
     "execution_count": 23,
     "metadata": {},
     "output_type": "execute_result"
    }
   ],
   "source": [
    "dfwaveperiod"
   ]
  },
  {
   "cell_type": "code",
   "execution_count": 24,
   "metadata": {},
   "outputs": [
    {
     "name": "stdout",
     "output_type": "stream",
     "text": [
      "Duplicate Rows except first occurrence based on all columns are :\n",
      "Empty DataFrame\n",
      "Columns: [Date, TP, TA]\n",
      "Index: []\n"
     ]
    }
   ],
   "source": [
    "duplicateRowsDF = dfwaveperiod[dfwaveperiod.duplicated()]\n",
    "print(\"Duplicate Rows except first occurrence based on all columns are :\")\n",
    "print(duplicateRowsDF)"
   ]
  },
  {
   "cell_type": "code",
   "execution_count": 25,
   "metadata": {},
   "outputs": [],
   "source": [
    "result = pd.merge(dfwt, dfwavedir, on='Date')"
   ]
  },
  {
   "cell_type": "code",
   "execution_count": 26,
   "metadata": {},
   "outputs": [],
   "source": [
    "result = pd.merge(result, dfwaveheight, on='Date')"
   ]
  },
  {
   "cell_type": "code",
   "execution_count": 27,
   "metadata": {},
   "outputs": [],
   "source": [
    "result = pd.merge(result, dfwaveperiod, on='Date')"
   ]
  },
  {
   "cell_type": "code",
   "execution_count": 28,
   "metadata": {},
   "outputs": [],
   "source": [
    "result = result.dropna()"
   ]
  },
  {
   "cell_type": "code",
   "execution_count": 29,
   "metadata": {},
   "outputs": [
    {
     "data": {
      "text/html": [
       "<div>\n",
       "<style scoped>\n",
       "    .dataframe tbody tr th:only-of-type {\n",
       "        vertical-align: middle;\n",
       "    }\n",
       "\n",
       "    .dataframe tbody tr th {\n",
       "        vertical-align: top;\n",
       "    }\n",
       "\n",
       "    .dataframe thead th {\n",
       "        text-align: right;\n",
       "    }\n",
       "</style>\n",
       "<table border=\"1\" class=\"dataframe\">\n",
       "  <thead>\n",
       "    <tr style=\"text-align: right;\">\n",
       "      <th></th>\n",
       "      <th>Date</th>\n",
       "      <th>SST</th>\n",
       "      <th>DP</th>\n",
       "      <th>HS</th>\n",
       "      <th>TP</th>\n",
       "      <th>TA</th>\n",
       "    </tr>\n",
       "  </thead>\n",
       "  <tbody>\n",
       "    <tr>\n",
       "      <th>0</th>\n",
       "      <td>Jul 31, 23:30</td>\n",
       "      <td>85.5</td>\n",
       "      <td>87</td>\n",
       "      <td>4.17</td>\n",
       "      <td>9.09</td>\n",
       "      <td>5.43</td>\n",
       "    </tr>\n",
       "    <tr>\n",
       "      <th>1</th>\n",
       "      <td>Aug 01, 00:00</td>\n",
       "      <td>85.5</td>\n",
       "      <td>94</td>\n",
       "      <td>4.07</td>\n",
       "      <td>7.14</td>\n",
       "      <td>5.52</td>\n",
       "    </tr>\n",
       "    <tr>\n",
       "      <th>2</th>\n",
       "      <td>Aug 01, 00:30</td>\n",
       "      <td>85.6</td>\n",
       "      <td>98</td>\n",
       "      <td>4.07</td>\n",
       "      <td>6.67</td>\n",
       "      <td>5.59</td>\n",
       "    </tr>\n",
       "    <tr>\n",
       "      <th>3</th>\n",
       "      <td>Aug 01, 01:00</td>\n",
       "      <td>85.6</td>\n",
       "      <td>90</td>\n",
       "      <td>4.33</td>\n",
       "      <td>6.67</td>\n",
       "      <td>5.39</td>\n",
       "    </tr>\n",
       "    <tr>\n",
       "      <th>4</th>\n",
       "      <td>Aug 01, 01:30</td>\n",
       "      <td>85.6</td>\n",
       "      <td>83</td>\n",
       "      <td>4.20</td>\n",
       "      <td>9.09</td>\n",
       "      <td>5.41</td>\n",
       "    </tr>\n",
       "    <tr>\n",
       "      <th>...</th>\n",
       "      <td>...</td>\n",
       "      <td>...</td>\n",
       "      <td>...</td>\n",
       "      <td>...</td>\n",
       "      <td>...</td>\n",
       "      <td>...</td>\n",
       "    </tr>\n",
       "    <tr>\n",
       "      <th>2005</th>\n",
       "      <td>Sep 11, 21:00</td>\n",
       "      <td>86.9</td>\n",
       "      <td>96</td>\n",
       "      <td>3.02</td>\n",
       "      <td>10.53</td>\n",
       "      <td>6.80</td>\n",
       "    </tr>\n",
       "    <tr>\n",
       "      <th>2006</th>\n",
       "      <td>Sep 11, 21:30</td>\n",
       "      <td>86.9</td>\n",
       "      <td>113</td>\n",
       "      <td>2.92</td>\n",
       "      <td>9.88</td>\n",
       "      <td>6.79</td>\n",
       "    </tr>\n",
       "    <tr>\n",
       "      <th>2007</th>\n",
       "      <td>Sep 11, 22:00</td>\n",
       "      <td>86.9</td>\n",
       "      <td>93</td>\n",
       "      <td>2.79</td>\n",
       "      <td>10.53</td>\n",
       "      <td>6.37</td>\n",
       "    </tr>\n",
       "    <tr>\n",
       "      <th>2008</th>\n",
       "      <td>Sep 11, 22:30</td>\n",
       "      <td>86.9</td>\n",
       "      <td>98</td>\n",
       "      <td>2.69</td>\n",
       "      <td>11.76</td>\n",
       "      <td>6.34</td>\n",
       "    </tr>\n",
       "    <tr>\n",
       "      <th>2009</th>\n",
       "      <td>Sep 11, 23:00</td>\n",
       "      <td>86.9</td>\n",
       "      <td>84</td>\n",
       "      <td>2.95</td>\n",
       "      <td>10.53</td>\n",
       "      <td>6.39</td>\n",
       "    </tr>\n",
       "  </tbody>\n",
       "</table>\n",
       "<p>2006 rows × 6 columns</p>\n",
       "</div>"
      ],
      "text/plain": [
       "               Date   SST   DP    HS     TP    TA\n",
       "0     Jul 31, 23:30  85.5   87  4.17   9.09  5.43\n",
       "1     Aug 01, 00:00  85.5   94  4.07   7.14  5.52\n",
       "2     Aug 01, 00:30  85.6   98  4.07   6.67  5.59\n",
       "3     Aug 01, 01:00  85.6   90  4.33   6.67  5.39\n",
       "4     Aug 01, 01:30  85.6   83  4.20   9.09  5.41\n",
       "...             ...   ...  ...   ...    ...   ...\n",
       "2005  Sep 11, 21:00  86.9   96  3.02  10.53  6.80\n",
       "2006  Sep 11, 21:30  86.9  113  2.92   9.88  6.79\n",
       "2007  Sep 11, 22:00  86.9   93  2.79  10.53  6.37\n",
       "2008  Sep 11, 22:30  86.9   98  2.69  11.76  6.34\n",
       "2009  Sep 11, 23:00  86.9   84  2.95  10.53  6.39\n",
       "\n",
       "[2006 rows x 6 columns]"
      ]
     },
     "execution_count": 29,
     "metadata": {},
     "output_type": "execute_result"
    }
   ],
   "source": [
    "result"
   ]
  },
  {
   "cell_type": "code",
   "execution_count": 30,
   "metadata": {},
   "outputs": [],
   "source": [
    "result.to_csv(\"/cdipipan.csv\",index=None,header=False)"
   ]
  },
  {
   "cell_type": "code",
   "execution_count": null,
   "metadata": {},
   "outputs": [],
   "source": []
  }
 ],
 "metadata": {
  "kernelspec": {
   "display_name": "Python 3",
   "language": "python",
   "name": "python3"
  },
  "language_info": {
   "codemirror_mode": {
    "name": "ipython",
    "version": 3
   },
   "file_extension": ".py",
   "mimetype": "text/x-python",
   "name": "python",
   "nbconvert_exporter": "python",
   "pygments_lexer": "ipython3",
   "version": "3.7.7"
  }
 },
 "nbformat": 4,
 "nbformat_minor": 4
}
